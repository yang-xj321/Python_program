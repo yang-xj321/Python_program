{
 "cells": [
  {
   "cell_type": "code",
   "execution_count": 3,
   "metadata": {},
   "outputs": [
    {
     "name": "stdout",
     "output_type": "stream",
     "text": [
      "1\n",
      "1\n",
      "2\n",
      "3\n",
      "5\n",
      "8\n",
      "13\n",
      "21\n",
      "34\n",
      "55\n",
      "89\n",
      "144\n",
      "233\n",
      "377\n",
      "610\n",
      "987\n",
      "1597\n",
      "2584\n",
      "4181\n",
      "6765\n",
      "10946\n",
      "17711\n",
      "28657\n",
      "46368\n",
      "75025\n",
      "121393\n",
      "196418\n",
      "317811\n",
      "514229\n",
      "832040\n",
      "1346269\n",
      "2178309\n",
      "3524578\n",
      "5702887\n",
      "9227465\n",
      "14930352\n",
      "24157817\n",
      "39088169\n",
      "63245986\n",
      "102334155\n",
      "165580141\n",
      "267914296\n",
      "433494437\n",
      "701408733\n",
      "1134903170\n",
      "1836311903\n",
      "2971215073\n",
      "4807526976\n",
      "7778742049\n",
      "12586269025\n"
     ]
    }
   ],
   "source": [
    "class Fibonacci(object):\n",
    "    \"\"\"斐波那契数列迭代器\"\"\"\n",
    "\n",
    "    def __init__(self, n):\n",
    "        \"\"\"\n",
    "        :param n:int 指 生成数列的个数\n",
    "        \"\"\"\n",
    "        self.n = n\n",
    "        # 保存当前生成到的数据列的第几个数据，生成器中性质，记录位置，下一个位置的数据\n",
    "        self.current = 0\n",
    "        # 两个初始值\n",
    "        self.a = 0\n",
    "        self.b = 1\n",
    "\n",
    "    def __next__(self):\n",
    "        \"\"\"当使用next()函数调用时，就会获取下一个数\"\"\"\n",
    "        if self.current < self.n:\n",
    "            self.a, self.b = self.b, self.a + self.b\n",
    "            self.current += 1\n",
    "            return self.a\n",
    "        else:\n",
    "            raise StopIteration\n",
    "\n",
    "    def __iter__(self):\n",
    "        \"\"\"迭代器的__iter__ 返回自身即可\"\"\"\n",
    "        return self\n",
    "\n",
    "\n",
    "if __name__ == '__main__':\n",
    "    fib = Fibonacci(50)\n",
    "    for num in fib:\n",
    "        print(num)"
   ]
  },
  {
   "cell_type": "code",
   "execution_count": null,
   "metadata": {},
   "outputs": [],
   "source": []
  }
 ],
 "metadata": {
  "kernelspec": {
   "display_name": "Python 3",
   "language": "python",
   "name": "python3"
  },
  "language_info": {
   "codemirror_mode": {
    "name": "ipython",
    "version": 3
   },
   "file_extension": ".py",
   "mimetype": "text/x-python",
   "name": "python",
   "nbconvert_exporter": "python",
   "pygments_lexer": "ipython3",
   "version": "3.7.3"
  }
 },
 "nbformat": 4,
 "nbformat_minor": 2
}
