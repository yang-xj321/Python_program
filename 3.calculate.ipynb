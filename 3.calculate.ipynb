﻿{
 "cells": [
  {
   "cell_type": "code",
   "execution_count": 1,
   "metadata": {},
   "outputs": [
    {
     "name": "stdout",
     "output_type": "stream",
     "text": [
      "0 + 2 = \n",
      "请输入您的答案:(q退出)2\n",
      "回答正确\n",
      "3 / 9 = \n",
      "请输入您的答案:(q退出)0.3\n",
      "回答错误\n",
      "9 - 8 = \n",
      "请输入您的答案:(q退出)1\n",
      "回答正确\n",
      "7 - 3 = \n",
      "请输入您的答案:(q退出)4\n",
      "回答正确\n",
      "7 * 2 = \n",
      "请输入您的答案:(q退出)14\n",
      "回答正确\n",
      "7 - 4 = \n",
      "请输入您的答案:(q退出)3\n",
      "回答正确\n",
      "8 + 2 = \n",
      "请输入您的答案:(q退出)10\n",
      "回答正确\n",
      "0 + 8 = \n",
      "请输入您的答案:(q退出)8\n",
      "回答正确\n",
      "0 + 4 = \n",
      "请输入您的答案:(q退出)4\n",
      "回答正确\n",
      "8 * 9 = \n",
      "请输入您的答案:(q退出)72\n",
      "回答正确\n",
      "2 / 9 = \n",
      "请输入您的答案:(q退出)1\n",
      "回答错误\n",
      "8 / 1 = \n",
      "请输入您的答案:(q退出)q\n",
      "测试结束,共回答11道题,正确个数为9,正确率为81.82%\n"
     ]
    }
   ],
   "source": [
    "import random\n",
    "count = 0\n",
    "right = 0\n",
    "op = ['+','-','*','/']\n",
    "\n",
    "while True:\n",
    "    a= random.randint(0,9)\n",
    "    b= random.randint(0,9)\n",
    "    s = random.choice(op)\n",
    "    print('%d %s %d = ' %(a,s,b))\n",
    "    question = input('请输入您的答案:(q退出)')\n",
    "    if s == '+':\n",
    "        result = a + b\n",
    "    if s == '-':\n",
    "        result = a - b\n",
    "    if s == '*':\n",
    "        result = a * b\n",
    "    if s == '/':\n",
    "        result = a // b\n",
    "    if question == str(result):\n",
    "        print('回答正确')\n",
    "        right += 1\n",
    "        count += 1\n",
    "    elif question == 'q':\n",
    "        break\n",
    "    else:\n",
    "        print('回答错误')\n",
    "        count += 1\n",
    "\n",
    "percent = right / count\n",
    "print('测试结束,共回答%d道题,正确个数为%d,正确率为%.2f%%' %(count,right,percent * 100))"
   ]
  },
  {
   "cell_type": "code",
   "execution_count": null,
   "metadata": {},
   "outputs": [],
   "source": []
  }
 ],
 "metadata": {
  "kernelspec": {
   "display_name": "Python 3",
   "language": "python",
   "name": "python3"
  },
  "language_info": {
   "codemirror_mode": {
    "name": "ipython",
    "version": 3
   },
   "file_extension": ".py",
   "mimetype": "text/x-python",
   "name": "python",
   "nbconvert_exporter": "python",
   "pygments_lexer": "ipython3",
   "version": "3.7.4"
  }
 },
 "nbformat": 4,
 "nbformat_minor": 2
}
