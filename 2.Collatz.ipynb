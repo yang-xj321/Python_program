{
 "cells": [
  {
   "cell_type": "code",
   "execution_count": 1,
   "metadata": {},
   "outputs": [
    {
     "name": "stdout",
     "output_type": "stream",
     "text": [
      "请输入一个正整数：2\n",
      "2/2=1\n"
     ]
    }
   ],
   "source": [
    "##验证冰雹猜想\n",
    "n = int(input(\"请输入一个正整数：\"))\n",
    " \n",
    "while n != 1:\n",
    "    if n % 2 == 0:\n",
    "        k = n / 2\n",
    "        print(\"%d/2=%d\" %(n, k))\n",
    "        n = k\n",
    "    else:\n",
    "        l = n * 3 + 1\n",
    "        print(\"%d*3+1=%d\" %(n, l))\n",
    "        n=l"
   ]
  },
  {
   "cell_type": "code",
   "execution_count": 2,
   "metadata": {},
   "outputs": [
    {
     "name": "stdout",
     "output_type": "stream",
     "text": [
      "请输入一个正整数：3\n",
      "3*3+1=10\n",
      "10/2=5\n",
      "5*3+1=16\n",
      "16/2=8\n",
      "8/2=4\n",
      "4/2=2\n",
      "2/2=1\n"
     ]
    }
   ],
   "source": [
    "##验证冰雹猜想\n",
    "n = int(input(\"请输入一个正整数：\"))\n",
    " \n",
    "while n != 1:\n",
    "    if n % 2 == 0:\n",
    "        k = n / 2\n",
    "        print(\"%d/2=%d\" %(n, k))\n",
    "        n = k\n",
    "    else:\n",
    "        l = n * 3 + 1\n",
    "        print(\"%d*3+1=%d\" %(n, l))\n",
    "        n=l"
   ]
  },
  {
   "cell_type": "code",
   "execution_count": 3,
   "metadata": {},
   "outputs": [
    {
     "name": "stdout",
     "output_type": "stream",
     "text": [
      "请输入一个正整数：4\n",
      "4/2=2\n",
      "2/2=1\n"
     ]
    }
   ],
   "source": [
    "##验证冰雹猜想\n",
    "n = int(input(\"请输入一个正整数：\"))\n",
    " \n",
    "while n != 1:\n",
    "    if n % 2 == 0:\n",
    "        k = n / 2\n",
    "        print(\"%d/2=%d\" %(n, k))\n",
    "        n = k\n",
    "    else:\n",
    "        l = n * 3 + 1\n",
    "        print(\"%d*3+1=%d\" %(n, l))\n",
    "        n=l"
   ]
  },
  {
   "cell_type": "code",
   "execution_count": 4,
   "metadata": {},
   "outputs": [
    {
     "name": "stdout",
     "output_type": "stream",
     "text": [
      "请输入一个正整数：5\n",
      "5*3+1=16\n",
      "16/2=8\n",
      "8/2=4\n",
      "4/2=2\n",
      "2/2=1\n"
     ]
    }
   ],
   "source": [
    "##验证冰雹猜想\n",
    "n = int(input(\"请输入一个正整数：\"))\n",
    " \n",
    "while n != 1:\n",
    "    if n % 2 == 0:\n",
    "        k = n / 2\n",
    "        print(\"%d/2=%d\" %(n, k))\n",
    "        n = k\n",
    "    else:\n",
    "        l = n * 3 + 1\n",
    "        print(\"%d*3+1=%d\" %(n, l))\n",
    "        n=l"
   ]
  },
  {
   "cell_type": "code",
   "execution_count": 5,
   "metadata": {},
   "outputs": [
    {
     "name": "stdout",
     "output_type": "stream",
     "text": [
      "请输入一个正整数：6\n",
      "6/2=3\n",
      "3*3+1=10\n",
      "10/2=5\n",
      "5*3+1=16\n",
      "16/2=8\n",
      "8/2=4\n",
      "4/2=2\n",
      "2/2=1\n"
     ]
    }
   ],
   "source": [
    "##验证冰雹猜想\n",
    "n = int(input(\"请输入一个正整数：\"))\n",
    " \n",
    "while n != 1:\n",
    "    if n % 2 == 0:\n",
    "        k = n / 2\n",
    "        print(\"%d/2=%d\" %(n, k))\n",
    "        n = k\n",
    "    else:\n",
    "        l = n * 3 + 1\n",
    "        print(\"%d*3+1=%d\" %(n, l))\n",
    "        n=l"
   ]
  },
  {
   "cell_type": "code",
   "execution_count": 6,
   "metadata": {},
   "outputs": [
    {
     "name": "stdout",
     "output_type": "stream",
     "text": [
      "请输入一个正整数：7\n",
      "7*3+1=22\n",
      "22/2=11\n",
      "11*3+1=34\n",
      "34/2=17\n",
      "17*3+1=52\n",
      "52/2=26\n",
      "26/2=13\n",
      "13*3+1=40\n",
      "40/2=20\n",
      "20/2=10\n",
      "10/2=5\n",
      "5*3+1=16\n",
      "16/2=8\n",
      "8/2=4\n",
      "4/2=2\n",
      "2/2=1\n"
     ]
    }
   ],
   "source": [
    "##验证冰雹猜想\n",
    "n = int(input(\"请输入一个正整数：\"))\n",
    " \n",
    "while n != 1:\n",
    "    if n % 2 == 0:\n",
    "        k = n / 2\n",
    "        print(\"%d/2=%d\" %(n, k))\n",
    "        n = k\n",
    "    else:\n",
    "        l = n * 3 + 1\n",
    "        print(\"%d*3+1=%d\" %(n, l))\n",
    "        n=l"
   ]
  },
  {
   "cell_type": "code",
   "execution_count": 7,
   "metadata": {},
   "outputs": [
    {
     "name": "stdout",
     "output_type": "stream",
     "text": [
      "请输入一个正整数：8\n",
      "8/2=4\n",
      "4/2=2\n",
      "2/2=1\n"
     ]
    }
   ],
   "source": [
    "##验证冰雹猜想\n",
    "n = int(input(\"请输入一个正整数：\"))\n",
    " \n",
    "while n != 1:\n",
    "    if n % 2 == 0:\n",
    "        k = n / 2\n",
    "        print(\"%d/2=%d\" %(n, k))\n",
    "        n = k\n",
    "    else:\n",
    "        l = n * 3 + 1\n",
    "        print(\"%d*3+1=%d\" %(n, l))\n",
    "        n=l"
   ]
  },
  {
   "cell_type": "code",
   "execution_count": 8,
   "metadata": {},
   "outputs": [
    {
     "name": "stdout",
     "output_type": "stream",
     "text": [
      "请输入一个正整数：9\n",
      "9*3+1=28\n",
      "28/2=14\n",
      "14/2=7\n",
      "7*3+1=22\n",
      "22/2=11\n",
      "11*3+1=34\n",
      "34/2=17\n",
      "17*3+1=52\n",
      "52/2=26\n",
      "26/2=13\n",
      "13*3+1=40\n",
      "40/2=20\n",
      "20/2=10\n",
      "10/2=5\n",
      "5*3+1=16\n",
      "16/2=8\n",
      "8/2=4\n",
      "4/2=2\n",
      "2/2=1\n"
     ]
    }
   ],
   "source": [
    "##验证冰雹猜想\n",
    "n = int(input(\"请输入一个正整数：\"))\n",
    " \n",
    "while n != 1:\n",
    "    if n % 2 == 0:\n",
    "        k = n / 2\n",
    "        print(\"%d/2=%d\" %(n, k))\n",
    "        n = k\n",
    "    else:\n",
    "        l = n * 3 + 1\n",
    "        print(\"%d*3+1=%d\" %(n, l))\n",
    "        n=l"
   ]
  },
  {
   "cell_type": "code",
   "execution_count": 9,
   "metadata": {},
   "outputs": [
    {
     "name": "stdout",
     "output_type": "stream",
     "text": [
      "请输入一个正整数：10\n",
      "10/2=5\n",
      "5*3+1=16\n",
      "16/2=8\n",
      "8/2=4\n",
      "4/2=2\n",
      "2/2=1\n"
     ]
    }
   ],
   "source": [
    "##验证冰雹猜想\n",
    "n = int(input(\"请输入一个正整数：\"))\n",
    " \n",
    "while n != 1:\n",
    "    if n % 2 == 0:\n",
    "        k = n / 2\n",
    "        print(\"%d/2=%d\" %(n, k))\n",
    "        n = k\n",
    "    else:\n",
    "        l = n * 3 + 1\n",
    "        print(\"%d*3+1=%d\" %(n, l))\n",
    "        n=l"
   ]
  },
  {
   "cell_type": "code",
   "execution_count": 10,
   "metadata": {},
   "outputs": [
    {
     "name": "stdout",
     "output_type": "stream",
     "text": [
      "请输入一个正整数：98\n",
      "98/2=49\n",
      "49*3+1=148\n",
      "148/2=74\n",
      "74/2=37\n",
      "37*3+1=112\n",
      "112/2=56\n",
      "56/2=28\n",
      "28/2=14\n",
      "14/2=7\n",
      "7*3+1=22\n",
      "22/2=11\n",
      "11*3+1=34\n",
      "34/2=17\n",
      "17*3+1=52\n",
      "52/2=26\n",
      "26/2=13\n",
      "13*3+1=40\n",
      "40/2=20\n",
      "20/2=10\n",
      "10/2=5\n",
      "5*3+1=16\n",
      "16/2=8\n",
      "8/2=4\n",
      "4/2=2\n",
      "2/2=1\n"
     ]
    }
   ],
   "source": [
    "##验证冰雹猜想\n",
    "n = int(input(\"请输入一个正整数：\"))\n",
    " \n",
    "while n != 1:\n",
    "    if n % 2 == 0:\n",
    "        k = n / 2\n",
    "        print(\"%d/2=%d\" %(n, k))\n",
    "        n = k\n",
    "    else:\n",
    "        l = n * 3 + 1\n",
    "        print(\"%d*3+1=%d\" %(n, l))\n",
    "        n=l"
   ]
  },
  {
   "cell_type": "code",
   "execution_count": 11,
   "metadata": {},
   "outputs": [
    {
     "name": "stdout",
     "output_type": "stream",
     "text": [
      "请输入一个正整数：99\n",
      "99*3+1=298\n",
      "298/2=149\n",
      "149*3+1=448\n",
      "448/2=224\n",
      "224/2=112\n",
      "112/2=56\n",
      "56/2=28\n",
      "28/2=14\n",
      "14/2=7\n",
      "7*3+1=22\n",
      "22/2=11\n",
      "11*3+1=34\n",
      "34/2=17\n",
      "17*3+1=52\n",
      "52/2=26\n",
      "26/2=13\n",
      "13*3+1=40\n",
      "40/2=20\n",
      "20/2=10\n",
      "10/2=5\n",
      "5*3+1=16\n",
      "16/2=8\n",
      "8/2=4\n",
      "4/2=2\n",
      "2/2=1\n"
     ]
    }
   ],
   "source": [
    "##验证冰雹猜想\n",
    "n = int(input(\"请输入一个正整数：\"))\n",
    " \n",
    "while n != 1:\n",
    "    if n % 2 == 0:\n",
    "        k = n / 2\n",
    "        print(\"%d/2=%d\" %(n, k))\n",
    "        n = k\n",
    "    else:\n",
    "        l = n * 3 + 1\n",
    "        print(\"%d*3+1=%d\" %(n, l))\n",
    "        n=l"
   ]
  },
  {
   "cell_type": "code",
   "execution_count": 12,
   "metadata": {},
   "outputs": [
    {
     "name": "stdout",
     "output_type": "stream",
     "text": [
      "请输入一个正整数：100\n",
      "100/2=50\n",
      "50/2=25\n",
      "25*3+1=76\n",
      "76/2=38\n",
      "38/2=19\n",
      "19*3+1=58\n",
      "58/2=29\n",
      "29*3+1=88\n",
      "88/2=44\n",
      "44/2=22\n",
      "22/2=11\n",
      "11*3+1=34\n",
      "34/2=17\n",
      "17*3+1=52\n",
      "52/2=26\n",
      "26/2=13\n",
      "13*3+1=40\n",
      "40/2=20\n",
      "20/2=10\n",
      "10/2=5\n",
      "5*3+1=16\n",
      "16/2=8\n",
      "8/2=4\n",
      "4/2=2\n",
      "2/2=1\n"
     ]
    }
   ],
   "source": [
    "##验证冰雹猜想\n",
    "n = int(input(\"请输入一个正整数：\"))\n",
    " \n",
    "while n != 1:\n",
    "    if n % 2 == 0:\n",
    "        k = n / 2\n",
    "        print(\"%d/2=%d\" %(n, k))\n",
    "        n = k\n",
    "    else:\n",
    "        l = n * 3 + 1\n",
    "        print(\"%d*3+1=%d\" %(n, l))\n",
    "        n=l"
   ]
  },
  {
   "cell_type": "code",
   "execution_count": null,
   "metadata": {},
   "outputs": [],
   "source": []
  }
 ],
 "metadata": {
  "kernelspec": {
   "display_name": "Python 3",
   "language": "python",
   "name": "python3"
  },
  "language_info": {
   "codemirror_mode": {
    "name": "ipython",
    "version": 3
   },
   "file_extension": ".py",
   "mimetype": "text/x-python",
   "name": "python",
   "nbconvert_exporter": "python",
   "pygments_lexer": "ipython3",
   "version": "3.7.4"
  }
 },
 "nbformat": 4,
 "nbformat_minor": 2
}
